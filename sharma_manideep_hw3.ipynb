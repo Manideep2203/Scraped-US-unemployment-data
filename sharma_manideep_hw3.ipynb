{
 "cells": [
  {
   "attachments": {},
   "cell_type": "markdown",
   "id": "6dea4972",
   "metadata": {},
   "source": [
    "# Question 1\n",
    "\n",
    "\n",
    "In this question, you will be required to obtain the unemployment data for the following states: Georgia, California, and Texas (similar to what we did in class) and export them to individual files using python (This means there should be a separate file for each state).  For each file, make the following changes:\n",
    "\n",
    "●\tWe only want four columns from the original data: series id, year, month, and value.  Do not include any other columns from the original source data.\n",
    "●\tAdd a column called month_year which holds a string that has the month year combination.  For example, if a row has the month at 06 and the year at 2018, this column should have the following string: “06_2018”\n",
    "●\tWe only want to keep the data from 2015 till 2020.\n"
   ]
  },
  {
   "cell_type": "code",
   "execution_count": 221,
   "id": "3bfd4d1c",
   "metadata": {},
   "outputs": [
    {
     "data": {
      "text/plain": [
       "'/Users/manideep_sharma/Documents/Purdue documents/Fall mod 2/MGMT 590 WDA/Assignment 3 due Nov 2'"
      ]
     },
     "execution_count": 221,
     "metadata": {},
     "output_type": "execute_result"
    }
   ],
   "source": [
    "pwd"
   ]
  },
  {
   "cell_type": "code",
   "execution_count": 222,
   "id": "6c494fd9",
   "metadata": {},
   "outputs": [],
   "source": [
    "import urllib.request"
   ]
  },
  {
   "cell_type": "code",
   "execution_count": 223,
   "id": "6f709a6c",
   "metadata": {},
   "outputs": [
    {
     "data": {
      "text/plain": [
       "'51.Texas\\n11.California\\n17.Georgia'"
      ]
     },
     "execution_count": 223,
     "metadata": {},
     "output_type": "execute_result"
    }
   ],
   "source": [
    "# Reading input csv file that contains names of 3 states- Texas, Georgia and California\n",
    "Input_File = open('/Users/manideep_sharma/Documents/Purdue documents/Fall mod 2/MGMT 590 WDA/Assignment 3 due Nov 2/states.csv','r')\n",
    "Input_File = Input_File.read()\n",
    "Input_File"
   ]
  },
  {
   "cell_type": "code",
   "execution_count": 224,
   "id": "bbc219fd",
   "metadata": {},
   "outputs": [
    {
     "data": {
      "text/plain": [
       "['51.Texas\\n', '11.California\\n', '17.Georgia']"
      ]
     },
     "execution_count": 224,
     "metadata": {},
     "output_type": "execute_result"
    }
   ],
   "source": [
    "states_for_url = Input_File.splitlines(1)\n",
    "states_for_url"
   ]
  },
  {
   "cell_type": "code",
   "execution_count": 225,
   "id": "a39b9b55",
   "metadata": {},
   "outputs": [
    {
     "data": {
      "text/plain": [
       "['51.Texas', '11.California', '17.Georgia']"
      ]
     },
     "execution_count": 225,
     "metadata": {},
     "output_type": "execute_result"
    }
   ],
   "source": [
    "states_for_url = Input_File.splitlines(0)\n",
    "states_for_url"
   ]
  },
  {
   "cell_type": "code",
   "execution_count": 226,
   "id": "024bdc23",
   "metadata": {},
   "outputs": [
    {
     "data": {
      "text/plain": [
       "['https://download.bls.gov/pub/time.series/la/la.data.51.Texas',\n",
       " 'https://download.bls.gov/pub/time.series/la/la.data.11.California',\n",
       " 'https://download.bls.gov/pub/time.series/la/la.data.17.Georgia']"
      ]
     },
     "execution_count": 226,
     "metadata": {},
     "output_type": "execute_result"
    }
   ],
   "source": [
    "urls = []\n",
    "for state in states_for_url:\n",
    "    urls.append('https://download.bls.gov/pub/time.series/la/la.data.' + state)\n",
    "urls"
   ]
  },
  {
   "cell_type": "code",
   "execution_count": 302,
   "id": "9aec2fff",
   "metadata": {},
   "outputs": [
    {
     "name": "stdout",
     "output_type": "stream",
     "text": [
      "['Texas', 'California', 'Georgia']\n"
     ]
    }
   ],
   "source": [
    "state_names = []\n",
    "for state in states_for_url:\n",
    "    state_names.append(state[state.find('.')+1:].strip())\n",
    "print(state_names)"
   ]
  },
  {
   "cell_type": "code",
   "execution_count": 228,
   "id": "809fa8a7",
   "metadata": {},
   "outputs": [
    {
     "name": "stdout",
     "output_type": "stream",
     "text": [
      "Texas\n",
      "California\n",
      "Georgia\n"
     ]
    }
   ],
   "source": [
    "### Enumerating file names\n",
    "for counter in range(0 , len(urls) ):\n",
    "    print(state_names[counter])\n",
    "    html = urllib.request.urlopen(urls[counter]).read().decode('utf-8')\n",
    "    Output_File = open('/Users/manideep_sharma/Documents/Purdue documents/Fall mod 2/MGMT 590 WDA/Assignment 3 due Nov 2/' + state_names[counter] +  '.txt','w')\n",
    "    Output_File.write(html)\n",
    "    Output_File.close()"
   ]
  },
  {
   "cell_type": "code",
   "execution_count": 347,
   "id": "eb22cdba",
   "metadata": {},
   "outputs": [],
   "source": [
    "# In this step, I am getting only 4 columns asked in the question, filter the year from 2015 to 2020 and generating\n",
    "# 3 intermediate states tables\n",
    "\n",
    "import csv\n",
    "\n",
    "for state in range(0,len(state_names)):\n",
    "    f=open('/Users/manideep_sharma/Documents/Purdue documents/Fall mod 2/MGMT 590 WDA/Assignment 3 due Nov 2/'+state_names[state]+'.txt',\"r\")\n",
    "    lines=f.readlines()\n",
    "    result=[]\n",
    "    for x in lines:\n",
    "        result.append(x.split('\\t')[0:4]) # Taking only 1st 4 columns\n",
    "        \n",
    "    #writing the 4 columns to the files\n",
    "    with open('/Users/manideep_sharma/Documents/Purdue documents/Fall mod 2/MGMT 590 WDA/Assignment 3 due Nov 2/'+state_names[state]+'_1.txt', \"w\") as f:\n",
    "        wr = csv.writer(f, delimiter= '\\t')\n",
    "        wr.writerows(result)\n",
    "      \n",
    "    #adding time filter\n",
    "    time_frame = ['2015', '2016', '2017', '2018', '2019', '2020']\n",
    "    r = open('/Users/manideep_sharma/Documents/Purdue documents/Fall mod 2/MGMT 590 WDA/Assignment 3 due Nov 2/'+state_names[state]+'_1.txt').readlines()\n",
    "    r[0]\n",
    "\n",
    "    newlines = []\n",
    "    New_Format_Data_1 = r[0]\n",
    "\n",
    "    with open('/Users/manideep_sharma/Documents/Purdue documents/Fall mod 2/MGMT 590 WDA/Assignment 3 due Nov 2/'+state_names[state]+'_1.txt') as f:\n",
    "        for line in f:\n",
    "            if any(s in line for s in time_frame):\n",
    "                newlines.append(line)\n",
    "\n",
    "    filter_file = open('/Users/manideep_sharma/Documents/Purdue documents/Fall mod 2/MGMT 590 WDA/Assignment 3 due Nov 2/'+state_names[state]+'_2.txt', 'w')\n",
    "\n",
    "    for row in range(0, len(newlines)):\n",
    "        New_Format_Data_1 +=  newlines[row]\n",
    "\n",
    "    for line in New_Format_Data_1:\n",
    "        filter_file.write(line)\n",
    "    filter_file.close()\n",
    "\n",
    "f.close()\n"
   ]
  },
  {
   "cell_type": "code",
   "execution_count": 349,
   "id": "f19f3c4e",
   "metadata": {},
   "outputs": [],
   "source": [
    "# Creating all three states output by adding a 'month_year' column, renaming 'period' column to 'month'\n",
    "# and concatenating month and year data together\n",
    "Updated_Data = ''\n",
    "row_values=[]\n",
    "\n",
    "for state in range(0,len(state_names)):\n",
    "    read_file = open('/Users/manideep_sharma/Documents/Purdue documents/Fall mod 2/MGMT 590 WDA/Assignment 3 due Nov 2/'+state_names[state]+'_2.txt', 'r').read()\n",
    "    rows = read_file.splitlines(0)\n",
    "    \n",
    "    for row in range(0, len(rows)):\n",
    "        row_values=rows[row].split(\"\\t\")\n",
    "\n",
    "        if row==0:\n",
    "            Updated_Data = rows[0].replace('period','month')+ '\\tmonth_year'+'\\n'\n",
    "          \n",
    "        else:\n",
    "            Updated_Data += row_values[0] + '\\t' + row_values[1] + '\\t' + row_values[2][1:] + '\\t' + row_values[3] + '\\t' + row_values[2][1:] + '_' + row_values[1] + '\\n'\n",
    "\n",
    "    # Generating the final output of Question 1\n",
    "    Output_File = open(state_names[state] + '_Q1_output.txt','w')\n",
    "    Output_File.write(Updated_Data)\n",
    "    Output_File.close()\n",
    "\n",
    "    \n",
    "    "
   ]
  },
  {
   "attachments": {},
   "cell_type": "markdown",
   "id": "3abab3c5",
   "metadata": {},
   "source": [
    "# Question 2\n",
    "\n",
    "In this question, you will be required to obtain the unemployment data for the following states: Georgia, California, and Texas (similar to what we did in class) and export them to one file using python.  Put all the data into one file, and add a column called “State” that has the state name. \n",
    "●\tWe only want the data from 2015-2020.\n",
    "●\tWe only want the data that correspond to the following months: June (06).\n"
   ]
  },
  {
   "cell_type": "code",
   "execution_count": 321,
   "id": "1e81a3be",
   "metadata": {},
   "outputs": [
    {
     "data": {
      "text/plain": [
       "'51.Texas\\n11.California\\n17.Georgia'"
      ]
     },
     "execution_count": 321,
     "metadata": {},
     "output_type": "execute_result"
    }
   ],
   "source": [
    "# Reading input csv file that contains names of 3 states- Texas, Georgia and California\n",
    "\n",
    "Input_File = open('/Users/manideep_sharma/Documents/Purdue documents/Fall mod 2/MGMT 590 WDA/Assignment 3 due Nov 2/states.csv','r')\n",
    "Input_File = Input_File.read()\n",
    "Input_File"
   ]
  },
  {
   "cell_type": "code",
   "execution_count": 331,
   "id": "db5d6349",
   "metadata": {},
   "outputs": [
    {
     "data": {
      "text/plain": [
       "['51.Texas\\n', '11.California\\n', '17.Georgia']"
      ]
     },
     "execution_count": 331,
     "metadata": {},
     "output_type": "execute_result"
    }
   ],
   "source": [
    "states_for_url = Input_File.splitlines(1)\n",
    "states_for_url\n"
   ]
  },
  {
   "cell_type": "code",
   "execution_count": 332,
   "id": "5f68d778",
   "metadata": {},
   "outputs": [
    {
     "data": {
      "text/plain": [
       "['https://download.bls.gov/pub/time.series/la/la.data.51.Texas\\n',\n",
       " 'https://download.bls.gov/pub/time.series/la/la.data.11.California\\n',\n",
       " 'https://download.bls.gov/pub/time.series/la/la.data.17.Georgia']"
      ]
     },
     "execution_count": 332,
     "metadata": {},
     "output_type": "execute_result"
    }
   ],
   "source": [
    "urls = []\n",
    "for state in states_for_url:\n",
    "    urls.append('https://download.bls.gov/pub/time.series/la/la.data.' + state)\n",
    "urls"
   ]
  },
  {
   "cell_type": "code",
   "execution_count": 333,
   "id": "304963ba",
   "metadata": {},
   "outputs": [
    {
     "name": "stdout",
     "output_type": "stream",
     "text": [
      "['Texas', 'California', 'Georgia']\n"
     ]
    }
   ],
   "source": [
    "state_names = []\n",
    "for state in states_for_url:\n",
    "    state_names.append(state[state.find('.')+1:].strip())\n",
    "print(state_names)\n"
   ]
  },
  {
   "cell_type": "code",
   "execution_count": 352,
   "id": "bb81964f",
   "metadata": {},
   "outputs": [
    {
     "name": "stdout",
     "output_type": "stream",
     "text": [
      "https://download.bls.gov/pub/time.series/la/la.data.51.Texas\n",
      "\n",
      "https://download.bls.gov/pub/time.series/la/la.data.11.California\n",
      "\n",
      "https://download.bls.gov/pub/time.series/la/la.data.17.Georgia\n"
     ]
    }
   ],
   "source": [
    "New_Format_Data = ''\n",
    "\n",
    "Output_File = open('/Users/manideep_sharma/Documents/Purdue documents/Fall mod 2/MGMT 590 WDA/Assignment 3 due Nov 2/Combined_3_states_1.txt','w')\n",
    "\n",
    "for counter in range(0 , len(urls)):\n",
    "    print (urls[counter])\n",
    "    \n",
    "    Original_Data = urllib.request.urlopen(urls[counter]).read().decode('utf-8')\n",
    "    \n",
    "    rows = Original_Data.splitlines(1)\n",
    "    \n",
    "    if counter ==0:\n",
    "        New_Format_Data = \"State\\t\" + rows[0]\n",
    "        \n",
    "    for row in range(1, len(rows)):\n",
    "            \n",
    "        New_Format_Data += state_names[counter] + '\\t' + rows[row]\n",
    "    \n",
    "Output_File.write(New_Format_Data)\n",
    "Output_File.close()"
   ]
  },
  {
   "cell_type": "code",
   "execution_count": 353,
   "id": "82b5f8e1",
   "metadata": {},
   "outputs": [],
   "source": [
    "# In this step, I am getting only 5 columns asked in the question (including State name), filter the year from 2015 to 2020 \n",
    "# and filter for June (M06) month\n",
    "\n",
    "import csv\n",
    "\n",
    "f=open('/Users/manideep_sharma/Documents/Purdue documents/Fall mod 2/MGMT 590 WDA/Assignment 3 due Nov 2/Combined_3_states_1.txt',\"r\")\n",
    "lines=f.readlines()\n",
    "result=[]\n",
    "for x in lines:\n",
    "    result.append(x.split('\\t')[0:5]) # Taking only 1st 5 columns\n",
    "\n",
    "#writing the 5 columns to the files\n",
    "with open('/Users/manideep_sharma/Documents/Purdue documents/Fall mod 2/MGMT 590 WDA/Assignment 3 due Nov 2/Combined_3_states_2.txt', \"w\") as f:\n",
    "    wr = csv.writer(f, delimiter= '\\t')\n",
    "    wr.writerows(result)\n",
    "\n",
    "#adding year filter\n",
    "time_frame = ['2015', '2016', '2017', '2018', '2019', '2020']\n",
    "r = open('/Users/manideep_sharma/Documents/Purdue documents/Fall mod 2/MGMT 590 WDA/Assignment 3 due Nov 2/Combined_3_states_2.txt').readlines()\n",
    "\n",
    "newlines = []\n",
    "New_Format_Data_1 = r[0]\n",
    "\n",
    "with open('/Users/manideep_sharma/Documents/Purdue documents/Fall mod 2/MGMT 590 WDA/Assignment 3 due Nov 2/Combined_3_states_2.txt') as f:\n",
    "    for line in f:\n",
    "        if any(s in line for s in time_frame):\n",
    "            newlines.append(line)\n",
    "\n",
    "filter_file = open('/Users/manideep_sharma/Documents/Purdue documents/Fall mod 2/MGMT 590 WDA/Assignment 3 due Nov 2/Combined_3_states_2.txt', 'w')\n",
    "\n",
    "for row in range(0, len(newlines)):\n",
    "    New_Format_Data_1 +=  newlines[row]\n",
    "\n",
    "for line in New_Format_Data_1:\n",
    "    filter_file.write(line)\n",
    "filter_file.close()\n",
    "\n",
    "#adding month filter - filter for only June = M06\n",
    "months = ['M06']\n",
    "r = open('/Users/manideep_sharma/Documents/Purdue documents/Fall mod 2/MGMT 590 WDA/Assignment 3 due Nov 2/Combined_3_states_2.txt').readlines()\n",
    "\n",
    "newlines = []\n",
    "New_Format_Data_1 = r[0]\n",
    "\n",
    "with open('/Users/manideep_sharma/Documents/Purdue documents/Fall mod 2/MGMT 590 WDA/Assignment 3 due Nov 2/Combined_3_states_2.txt') as f:\n",
    "    for line in f:\n",
    "        if any(s in line for s in months):\n",
    "            newlines.append(line)\n",
    "\n",
    "filter_file = open('/Users/manideep_sharma/Documents/Purdue documents/Fall mod 2/MGMT 590 WDA/Assignment 3 due Nov 2/Combined_3_states_2.txt', 'w')\n",
    "\n",
    "for row in range(0, len(newlines)):\n",
    "    New_Format_Data_1 +=  newlines[row]\n",
    "\n",
    "for line in New_Format_Data_1:\n",
    "    filter_file.write(line)\n",
    "filter_file.close()\n",
    "\n",
    "f.close()"
   ]
  },
  {
   "cell_type": "code",
   "execution_count": 354,
   "id": "51a09c9f",
   "metadata": {},
   "outputs": [],
   "source": [
    "# Creating all three states output by adding a 'month_year' column, renaming 'period' column to 'month'\n",
    "# and concatenating month and year data together\n",
    "Updated_Data = ''\n",
    "row_values=[]\n",
    "\n",
    "read_file = open('/Users/manideep_sharma/Documents/Purdue documents/Fall mod 2/MGMT 590 WDA/Assignment 3 due Nov 2/Combined_3_states_2.txt', 'r').read()\n",
    "rows = read_file.splitlines(0)\n",
    "\n",
    "for row in range(0, len(rows)):\n",
    "    row_values=rows[row].split(\"\\t\")\n",
    "\n",
    "    if row==0:\n",
    "        Updated_Data = rows[0].replace('period','month')+ '\\tmonth_year'+'\\n'\n",
    "\n",
    "    else:\n",
    "        Updated_Data += row_values[0] + '\\t' + row_values[1] + '\\t' + row_values[2]+'\\t' + row_values[3][1:] + '\\t' + row_values[4] + '\\t' + row_values[3][1:] + '_' + row_values[2] + '\\n'\n",
    "\n",
    "# Generating the final output of Question 1\n",
    "Output_File = open('Combined_3_states_Q2_output.txt','w')\n",
    "Output_File.write(Updated_Data)\n",
    "Output_File.close()"
   ]
  },
  {
   "cell_type": "code",
   "execution_count": null,
   "id": "41abbb7d",
   "metadata": {},
   "outputs": [],
   "source": []
  }
 ],
 "metadata": {
  "kernelspec": {
   "display_name": "Python 3",
   "language": "python",
   "name": "python3"
  },
  "language_info": {
   "codemirror_mode": {
    "name": "ipython",
    "version": 3
   },
   "file_extension": ".py",
   "mimetype": "text/x-python",
   "name": "python",
   "nbconvert_exporter": "python",
   "pygments_lexer": "ipython3",
   "version": "3.8.8"
  }
 },
 "nbformat": 4,
 "nbformat_minor": 5
}
